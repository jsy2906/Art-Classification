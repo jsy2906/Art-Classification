{
 "cells": [
  {
   "cell_type": "code",
   "execution_count": null,
   "id": "54e69bbc",
   "metadata": {},
   "outputs": [],
   "source": [
    "https://wiserloner.tistory.com/1244"
   ]
  },
  {
   "cell_type": "code",
   "execution_count": 1,
   "id": "4fd12450",
   "metadata": {},
   "outputs": [],
   "source": [
    "import tensorflow as tf\n",
    "import os\n",
    "import pathlib\n",
    "import matplotlib.pyplot as plt\n",
    "import numpy as np"
   ]
  },
  {
   "cell_type": "code",
   "execution_count": 2,
   "id": "3ec4925b",
   "metadata": {
    "scrolled": false
   },
   "outputs": [
    {
     "data": {
      "text/plain": [
       "('./art_classification/train', './art_classification/test/0')"
      ]
     },
     "execution_count": 2,
     "metadata": {},
     "output_type": "execute_result"
    }
   ],
   "source": [
    "path = './art_classification/'\n",
    "\n",
    "train = os.path.join(path, 'train')\n",
    "test = os.path.join(path, 'test/0')\n",
    "train, test"
   ]
  },
  {
   "cell_type": "code",
   "execution_count": null,
   "id": "52b6eb74",
   "metadata": {},
   "outputs": [],
   "source": [
    "train = pathlib.Path(train)\n",
    "train_im = train /'person'/'pic_001.jpg'\n",
    "train_im"
   ]
  },
  {
   "cell_type": "code",
   "execution_count": null,
   "id": "2d37a700",
   "metadata": {
    "scrolled": true
   },
   "outputs": [],
   "source": [
    "sample = tf.io.decode_jpeg(tf.io.read_file(str(train_im)))\n",
    "plt.imshow(sample), sample.shape"
   ]
  },
  {
   "cell_type": "code",
   "execution_count": null,
   "id": "6b672ddc",
   "metadata": {},
   "outputs": [],
   "source": [
    "sample = tf.expand_dims(sample, 0)\n",
    "sample"
   ]
  },
  {
   "cell_type": "code",
   "execution_count": null,
   "id": "1ae73cba",
   "metadata": {},
   "outputs": [],
   "source": [
    "labels = os.listdir(train)\n",
    "label = {i:labels.index(i)  for i in labels}\n",
    "label"
   ]
  },
  {
   "cell_type": "code",
   "execution_count": 3,
   "id": "c7650989",
   "metadata": {},
   "outputs": [],
   "source": [
    "weight = 227\n",
    "height = 227\n",
    "channel = 3\n",
    "autotune = tf.data.experimental.AUTOTUNE\n",
    "seed = 42"
   ]
  },
  {
   "cell_type": "code",
   "execution_count": null,
   "id": "7ff77cfe",
   "metadata": {},
   "outputs": [],
   "source": [
    "def jitter(x, y):\n",
    "    x_resize = tf.image.resize(x, (256, 256))\n",
    "    x_crop = tf.image.random_crop(x_resize, (, weight, height, 3))\n",
    "    return x_crop,y"
   ]
  },
  {
   "cell_type": "code",
   "execution_count": null,
   "id": "19467cc6",
   "metadata": {},
   "outputs": [],
   "source": [
    "def norm(x, y):\n",
    "    x, y = x / 255, y\n",
    "    return x, y"
   ]
  },
  {
   "cell_type": "code",
   "execution_count": 49,
   "id": "acffce34",
   "metadata": {
    "scrolled": true
   },
   "outputs": [
    {
     "name": "stdout",
     "output_type": "stream",
     "text": [
      "Found 1698 files belonging to 7 classes.\n",
      "Using 1189 files for training.\n"
     ]
    }
   ],
   "source": [
    "# batch_size = 32 : default\n",
    "trainset = tf.keras.preprocessing.image_dataset_from_directory(train, \n",
    "                                                           image_size=(weight, height),\n",
    "                                                           validation_split=.3,\n",
    "                                                           subset='training',\n",
    "                                                           seed=seed, batch_size=10)"
   ]
  },
  {
   "cell_type": "code",
   "execution_count": 5,
   "id": "3cf06c8f",
   "metadata": {
    "scrolled": false
   },
   "outputs": [
    {
     "data": {
      "text/plain": [
       "['dog', 'elephant', 'giraffe', 'guitar', 'horse', 'house', 'person']"
      ]
     },
     "execution_count": 5,
     "metadata": {},
     "output_type": "execute_result"
    }
   ],
   "source": [
    "class_name = trainset.class_names\n",
    "class_name"
   ]
  },
  {
   "cell_type": "code",
   "execution_count": 50,
   "id": "7cb59fa9",
   "metadata": {},
   "outputs": [],
   "source": [
    "trainset = trainset.cache().prefetch(autotune)"
   ]
  },
  {
   "cell_type": "code",
   "execution_count": 51,
   "id": "b9e69be7",
   "metadata": {
    "scrolled": true
   },
   "outputs": [
    {
     "data": {
      "text/plain": [
       "TensorShape([10, 227, 227, 3])"
      ]
     },
     "execution_count": 51,
     "metadata": {},
     "output_type": "execute_result"
    }
   ],
   "source": [
    "next(iter(trainset))[0].shape"
   ]
  },
  {
   "cell_type": "code",
   "execution_count": 52,
   "id": "27284135",
   "metadata": {},
   "outputs": [
    {
     "name": "stdout",
     "output_type": "stream",
     "text": [
      "Found 1698 files belonging to 7 classes.\n",
      "Using 509 files for validation.\n"
     ]
    }
   ],
   "source": [
    "valset = tf.keras.preprocessing.image_dataset_from_directory(train, \n",
    "                                                           image_size=(weight, height),\n",
    "                                                           validation_split=.3,\n",
    "                                                           subset='validation',\n",
    "                                                           seed=seed, batch_size=10)"
   ]
  },
  {
   "cell_type": "code",
   "execution_count": 53,
   "id": "30b4a46f",
   "metadata": {
    "scrolled": true
   },
   "outputs": [],
   "source": [
    "valset = valset.cache().prefetch(autotune)"
   ]
  },
  {
   "cell_type": "code",
   "execution_count": 38,
   "id": "41543ba2",
   "metadata": {},
   "outputs": [],
   "source": [
    "augmentor = tf.keras.Sequential([\n",
    "    \n",
    "        tf.keras.layers.experimental.preprocessing.RandomFlip(input_shape = (weight, height, channel)),\n",
    "        tf.keras.layers.experimental.preprocessing.RandomRotation(0.3),\n",
    "        tf.keras.layers.experimental.preprocessing.RandomZoom(0.2),\n",
    "        \n",
    "    ])"
   ]
  },
  {
   "cell_type": "code",
   "execution_count": 12,
   "id": "37d6a9a9",
   "metadata": {},
   "outputs": [],
   "source": [
    "norm = tf.keras.layers.experimental.preprocessing.Rescaling(1/255)"
   ]
  },
  {
   "cell_type": "code",
   "execution_count": null,
   "id": "1b351529",
   "metadata": {},
   "outputs": [],
   "source": [
    "input_ = tf.keras.Input((weight, height, channel))\n",
    "\n",
    "x = tf.keras.layers.Conv2D(128, 3, padding='same', activation='relu')(input_)\n",
    "x = tf.keras.layers.BatchNormalization()(x)\n",
    "x = tf.keras.layers.Activation('relu')(x)\n",
    "\n",
    "x = tf.keras.layers.Conv2D(64,3, padding='same', activation='relu')(x)\n",
    "x = tf.keras.layers.BatchNormalization()(x)\n",
    "x = tf.keras.layers.Activation('relu')(x)\n",
    "\n",
    "x = tf.keras.layers.Conv2D(32, 3, padding='same', activation='relu')(x)\n",
    "x = tf.keras.layers.BatchNormalization()(x)\n",
    "x = tf.keras.layers.Activation('relu')(x)\n",
    "\n",
    "x = tf.keras.layers.Conv2D(16, 3, padding='same', activation='relu')(x)\n",
    "x = tf.keras.layers.BatchNormalization()(x)\n",
    "x = tf.keras.layers.Activation('relu')(x)\n",
    "\n",
    "x = tf.keras.layers.Flatten()(x)\n",
    "x = tf.keras.layers.Dense(128)(x)\n",
    "x = tf.keras.layers.Activation('relu')(x)\n",
    "x = tf.keras.layers.Dense(64)(x)\n",
    "x = tf.keras.layers.Activation('relu')(x)\n",
    "x = tf.keras.layers.Dense(32)(x)\n",
    "x = tf.keras.layers.Activation('relu')(x)\n",
    "x = tf.keras.layers.Dense(16)(x)\n",
    "x = tf.keras.layers.Activation('relu')(x)\n",
    "x = tf.keras.layers.Dense(7)(x)\n",
    "output = tf.keras.layers.Activation('softmax')(x)"
   ]
  },
  {
   "cell_type": "code",
   "execution_count": null,
   "id": "7a723ea1",
   "metadata": {},
   "outputs": [],
   "source": [
    "model1 = tf.keras.models.Model(input_, output)"
   ]
  },
  {
   "cell_type": "code",
   "execution_count": 39,
   "id": "1218983b",
   "metadata": {},
   "outputs": [],
   "source": [
    "input_ = tf.keras.Input((weight, height, channel))\n",
    "\n",
    "x = augmentor(input_)\n",
    "x = norm(x)\n",
    "\n",
    "x = tf.keras.layers.Conv2D(128, 3, padding='same', activation='relu')(x)\n",
    "x = tf.keras.layers.BatchNormalization()(x)\n",
    "x = tf.keras.layers.Activation('relu')(x)\n",
    "\n",
    "x = tf.keras.layers.Conv2D(64, 3, padding='same', activation='relu')(x)\n",
    "x = tf.keras.layers.BatchNormalization()(x)\n",
    "x = tf.keras.layers.Activation('relu')(x)\n",
    "\n",
    "x = tf.keras.layers.Conv2D(32, 3, padding='same', activation='relu')(x)\n",
    "x = tf.keras.layers.BatchNormalization()(x)\n",
    "x = tf.keras.layers.Activation('relu')(x)\n",
    "\n",
    "x = tf.keras.layers.GlobalAveragePooling2D()(x)\n",
    "x = tf.keras.layers.Activation('relu')(x)\n",
    "x = tf.keras.layers.Dropout(0.2)(x)\n",
    "x = tf.keras.layers.Dense(16)(x)\n",
    "x = tf.keras.layers.Activation('relu')(x)\n",
    "x = tf.keras.layers.Dense(7)(x)\n",
    "output = tf.keras.layers.Activation('softmax')(x)"
   ]
  },
  {
   "cell_type": "code",
   "execution_count": 40,
   "id": "6bebd5bc",
   "metadata": {},
   "outputs": [],
   "source": [
    "model2 = tf.keras.models.Model(input_, output)"
   ]
  },
  {
   "cell_type": "code",
   "execution_count": 41,
   "id": "4b06daba",
   "metadata": {
    "scrolled": true
   },
   "outputs": [
    {
     "name": "stdout",
     "output_type": "stream",
     "text": [
      "Model: \"model_3\"\n",
      "_________________________________________________________________\n",
      "Layer (type)                 Output Shape              Param #   \n",
      "=================================================================\n",
      "input_4 (InputLayer)         [(None, 227, 227, 3)]     0         \n",
      "_________________________________________________________________\n",
      "sequential_2 (Sequential)    (None, 227, 227, 3)       0         \n",
      "_________________________________________________________________\n",
      "rescaling (Rescaling)        (None, 227, 227, 3)       0         \n",
      "_________________________________________________________________\n",
      "conv2d_9 (Conv2D)            (None, 227, 227, 128)     3584      \n",
      "_________________________________________________________________\n",
      "batch_normalization_9 (Batch (None, 227, 227, 128)     512       \n",
      "_________________________________________________________________\n",
      "activation_18 (Activation)   (None, 227, 227, 128)     0         \n",
      "_________________________________________________________________\n",
      "conv2d_10 (Conv2D)           (None, 227, 227, 64)      73792     \n",
      "_________________________________________________________________\n",
      "batch_normalization_10 (Batc (None, 227, 227, 64)      256       \n",
      "_________________________________________________________________\n",
      "activation_19 (Activation)   (None, 227, 227, 64)      0         \n",
      "_________________________________________________________________\n",
      "conv2d_11 (Conv2D)           (None, 227, 227, 32)      18464     \n",
      "_________________________________________________________________\n",
      "batch_normalization_11 (Batc (None, 227, 227, 32)      128       \n",
      "_________________________________________________________________\n",
      "activation_20 (Activation)   (None, 227, 227, 32)      0         \n",
      "_________________________________________________________________\n",
      "global_average_pooling2d_3 ( (None, 32)                0         \n",
      "_________________________________________________________________\n",
      "activation_21 (Activation)   (None, 32)                0         \n",
      "_________________________________________________________________\n",
      "dropout_3 (Dropout)          (None, 32)                0         \n",
      "_________________________________________________________________\n",
      "dense_6 (Dense)              (None, 16)                528       \n",
      "_________________________________________________________________\n",
      "activation_22 (Activation)   (None, 16)                0         \n",
      "_________________________________________________________________\n",
      "dense_7 (Dense)              (None, 7)                 119       \n",
      "_________________________________________________________________\n",
      "activation_23 (Activation)   (None, 7)                 0         \n",
      "=================================================================\n",
      "Total params: 97,383\n",
      "Trainable params: 96,935\n",
      "Non-trainable params: 448\n",
      "_________________________________________________________________\n"
     ]
    }
   ],
   "source": [
    "model2.summary()"
   ]
  },
  {
   "cell_type": "code",
   "execution_count": 42,
   "id": "81e69e20",
   "metadata": {},
   "outputs": [],
   "source": [
    "es = tf.keras.callbacks.EarlyStopping(monitor = 'loss', patience =30)"
   ]
  },
  {
   "cell_type": "code",
   "execution_count": 43,
   "id": "3ed161d2",
   "metadata": {},
   "outputs": [],
   "source": [
    "# CategoricalCrossentropy : y값이 원핫인코딩이 되어있어야함\n",
    "# SparseCategoricalCrossentropy :y값이 int 형태\n",
    "\n",
    "model2.compile(optimizer='adam', loss='SparseCategoricalCrossentropy', \n",
    "               metrics=['acc'])"
   ]
  },
  {
   "cell_type": "code",
   "execution_count": 46,
   "id": "9eb312af",
   "metadata": {},
   "outputs": [
    {
     "name": "stdout",
     "output_type": "stream",
     "text": [
      "Physical devices cannot be modified after being initialized\n"
     ]
    }
   ],
   "source": [
    "gpus = tf.config.experimental.list_physical_devices('GPU')\n",
    "if gpus: \n",
    "    try: # Currently, memory growth needs to be the same across GPUs \n",
    "        for gpu in gpus: \n",
    "            tf.config.experimental.set_memory_growth(gpu, True) \n",
    "        logical_gpus = tf.config.experimental.list_logical_devices('GPU')\n",
    "        print(len(gpus), \"Physical GPUs,\", len(logical_gpus), \"Logical GPUs\")\n",
    "    except RuntimeError as e: \n",
    "        # Memory growth must be set before GPUs have been initialized \n",
    "        print(e)"
   ]
  },
  {
   "cell_type": "code",
   "execution_count": 54,
   "id": "b5be4832",
   "metadata": {
    "scrolled": true
   },
   "outputs": [
    {
     "name": "stdout",
     "output_type": "stream",
     "text": [
      "Epoch 1/100\n",
      "119/119 [==============================] - 49s 410ms/step - loss: 1.8813 - acc: 0.2389 - val_loss: 1.9244 - val_acc: 0.2593\n",
      "Epoch 2/100\n",
      "119/119 [==============================] - 48s 404ms/step - loss: 1.8114 - acc: 0.2775 - val_loss: 1.9103 - val_acc: 0.2672\n",
      "Epoch 3/100\n",
      "119/119 [==============================] - 48s 405ms/step - loss: 1.7604 - acc: 0.3070 - val_loss: 1.8730 - val_acc: 0.2809\n",
      "Epoch 4/100\n",
      "119/119 [==============================] - 48s 406ms/step - loss: 1.7530 - acc: 0.3137 - val_loss: 1.8828 - val_acc: 0.1925\n",
      "Epoch 5/100\n",
      "119/119 [==============================] - 48s 406ms/step - loss: 1.7356 - acc: 0.3347 - val_loss: 1.7988 - val_acc: 0.2809\n",
      "Epoch 6/100\n",
      "119/119 [==============================] - 48s 406ms/step - loss: 1.7182 - acc: 0.3288 - val_loss: 1.9173 - val_acc: 0.2397\n",
      "Epoch 7/100\n",
      "119/119 [==============================] - 48s 406ms/step - loss: 1.7026 - acc: 0.3465 - val_loss: 1.9596 - val_acc: 0.3084\n",
      "Epoch 8/100\n",
      "119/119 [==============================] - 48s 406ms/step - loss: 1.7145 - acc: 0.3331 - val_loss: 1.7367 - val_acc: 0.3163\n",
      "Epoch 9/100\n",
      "119/119 [==============================] - 48s 406ms/step - loss: 1.6831 - acc: 0.3625 - val_loss: 1.7461 - val_acc: 0.3143\n",
      "Epoch 10/100\n",
      "119/119 [==============================] - 48s 406ms/step - loss: 1.6713 - acc: 0.3625 - val_loss: 1.7230 - val_acc: 0.3517\n",
      "Epoch 11/100\n",
      "119/119 [==============================] - 48s 406ms/step - loss: 1.6562 - acc: 0.3616 - val_loss: 1.8289 - val_acc: 0.2652\n",
      "Epoch 12/100\n",
      "119/119 [==============================] - 48s 405ms/step - loss: 1.6512 - acc: 0.3743 - val_loss: 1.9008 - val_acc: 0.2672\n",
      "Epoch 13/100\n",
      "119/119 [==============================] - 48s 406ms/step - loss: 1.6581 - acc: 0.3692 - val_loss: 1.8468 - val_acc: 0.2672\n",
      "Epoch 14/100\n",
      "119/119 [==============================] - 48s 405ms/step - loss: 1.6219 - acc: 0.3785 - val_loss: 1.6601 - val_acc: 0.3831\n",
      "Epoch 15/100\n",
      "119/119 [==============================] - 48s 405ms/step - loss: 1.6146 - acc: 0.3877 - val_loss: 1.7811 - val_acc: 0.3360\n",
      "Epoch 16/100\n",
      "119/119 [==============================] - 48s 405ms/step - loss: 1.6152 - acc: 0.3759 - val_loss: 1.7754 - val_acc: 0.3418\n",
      "Epoch 17/100\n",
      "119/119 [==============================] - 48s 405ms/step - loss: 1.6103 - acc: 0.3835 - val_loss: 1.7203 - val_acc: 0.3340\n",
      "Epoch 18/100\n",
      "119/119 [==============================] - 48s 405ms/step - loss: 1.5865 - acc: 0.3970 - val_loss: 1.7087 - val_acc: 0.3752\n",
      "Epoch 19/100\n",
      "119/119 [==============================] - 48s 405ms/step - loss: 1.5871 - acc: 0.3936 - val_loss: 2.1147 - val_acc: 0.2652\n",
      "Epoch 20/100\n",
      "119/119 [==============================] - 48s 405ms/step - loss: 1.5874 - acc: 0.3919 - val_loss: 1.7475 - val_acc: 0.3418\n",
      "Epoch 21/100\n",
      "119/119 [==============================] - 48s 405ms/step - loss: 1.5896 - acc: 0.3785 - val_loss: 1.8814 - val_acc: 0.2475\n",
      "Epoch 22/100\n",
      "119/119 [==============================] - 48s 405ms/step - loss: 1.5838 - acc: 0.3869 - val_loss: 1.7158 - val_acc: 0.3497\n",
      "Epoch 23/100\n",
      "119/119 [==============================] - 48s 405ms/step - loss: 1.5695 - acc: 0.3919 - val_loss: 1.8256 - val_acc: 0.3104\n",
      "Epoch 24/100\n",
      "119/119 [==============================] - 48s 405ms/step - loss: 1.5614 - acc: 0.4079 - val_loss: 1.8946 - val_acc: 0.2967\n",
      "Epoch 25/100\n",
      "119/119 [==============================] - 48s 405ms/step - loss: 1.5595 - acc: 0.3970 - val_loss: 1.7092 - val_acc: 0.3674\n",
      "Epoch 26/100\n",
      "119/119 [==============================] - 48s 405ms/step - loss: 1.5518 - acc: 0.4045 - val_loss: 1.6860 - val_acc: 0.3831\n",
      "Epoch 27/100\n",
      "119/119 [==============================] - 48s 405ms/step - loss: 1.5327 - acc: 0.4214 - val_loss: 1.9735 - val_acc: 0.2829\n",
      "Epoch 28/100\n",
      "119/119 [==============================] - 48s 405ms/step - loss: 1.5464 - acc: 0.4113 - val_loss: 1.8507 - val_acc: 0.2849\n",
      "Epoch 29/100\n",
      "119/119 [==============================] - 48s 405ms/step - loss: 1.5507 - acc: 0.4230 - val_loss: 1.6743 - val_acc: 0.4126\n",
      "Epoch 30/100\n",
      "119/119 [==============================] - 48s 405ms/step - loss: 1.5232 - acc: 0.4222 - val_loss: 1.7090 - val_acc: 0.3438\n",
      "Epoch 31/100\n",
      "119/119 [==============================] - 48s 405ms/step - loss: 1.5257 - acc: 0.4180 - val_loss: 1.9216 - val_acc: 0.3320\n",
      "Epoch 32/100\n",
      "119/119 [==============================] - 48s 405ms/step - loss: 1.5186 - acc: 0.4222 - val_loss: 1.7161 - val_acc: 0.3399\n",
      "Epoch 33/100\n",
      "119/119 [==============================] - 48s 405ms/step - loss: 1.5194 - acc: 0.4121 - val_loss: 1.7199 - val_acc: 0.3517\n",
      "Epoch 34/100\n",
      "119/119 [==============================] - 48s 405ms/step - loss: 1.4943 - acc: 0.4256 - val_loss: 1.9125 - val_acc: 0.3654\n",
      "Epoch 35/100\n",
      "119/119 [==============================] - 48s 405ms/step - loss: 1.5111 - acc: 0.4163 - val_loss: 1.7613 - val_acc: 0.3477\n",
      "Epoch 36/100\n",
      "119/119 [==============================] - 48s 405ms/step - loss: 1.5052 - acc: 0.4289 - val_loss: 1.7753 - val_acc: 0.3418\n",
      "Epoch 37/100\n",
      "119/119 [==============================] - 48s 405ms/step - loss: 1.4764 - acc: 0.4256 - val_loss: 1.6551 - val_acc: 0.3752\n",
      "Epoch 38/100\n",
      "119/119 [==============================] - 48s 405ms/step - loss: 1.4864 - acc: 0.4357 - val_loss: 1.6717 - val_acc: 0.3654\n",
      "Epoch 39/100\n",
      "119/119 [==============================] - 48s 405ms/step - loss: 1.4662 - acc: 0.4340 - val_loss: 1.6677 - val_acc: 0.3438\n",
      "Epoch 40/100\n",
      "119/119 [==============================] - 48s 405ms/step - loss: 1.4634 - acc: 0.4306 - val_loss: 1.6972 - val_acc: 0.3713\n",
      "Epoch 41/100\n",
      "119/119 [==============================] - 48s 405ms/step - loss: 1.4607 - acc: 0.4399 - val_loss: 1.6565 - val_acc: 0.3890\n",
      "Epoch 42/100\n",
      "119/119 [==============================] - 48s 405ms/step - loss: 1.4589 - acc: 0.4458 - val_loss: 1.7015 - val_acc: 0.4028\n",
      "Epoch 43/100\n",
      "119/119 [==============================] - 48s 405ms/step - loss: 1.4309 - acc: 0.4508 - val_loss: 1.6718 - val_acc: 0.3792\n",
      "Epoch 44/100\n",
      "119/119 [==============================] - 48s 405ms/step - loss: 1.4483 - acc: 0.4542 - val_loss: 1.6528 - val_acc: 0.4008\n",
      "Epoch 45/100\n",
      "119/119 [==============================] - 48s 405ms/step - loss: 1.4324 - acc: 0.4516 - val_loss: 1.6533 - val_acc: 0.3674\n",
      "Epoch 46/100\n",
      "119/119 [==============================] - 48s 405ms/step - loss: 1.4355 - acc: 0.4542 - val_loss: 1.6541 - val_acc: 0.4047\n",
      "Epoch 47/100\n",
      "119/119 [==============================] - 48s 405ms/step - loss: 1.4198 - acc: 0.4525 - val_loss: 1.7378 - val_acc: 0.3752\n",
      "Epoch 48/100\n",
      "119/119 [==============================] - 48s 405ms/step - loss: 1.4130 - acc: 0.4626 - val_loss: 1.8341 - val_acc: 0.3183\n",
      "Epoch 49/100\n",
      "119/119 [==============================] - 48s 405ms/step - loss: 1.4031 - acc: 0.4701 - val_loss: 1.7734 - val_acc: 0.3615\n",
      "Epoch 50/100\n",
      "119/119 [==============================] - 48s 405ms/step - loss: 1.3988 - acc: 0.4651 - val_loss: 1.8904 - val_acc: 0.3752\n",
      "Epoch 51/100\n",
      "119/119 [==============================] - 48s 405ms/step - loss: 1.4155 - acc: 0.4533 - val_loss: 1.6712 - val_acc: 0.3811\n",
      "Epoch 52/100\n",
      "119/119 [==============================] - 48s 405ms/step - loss: 1.3915 - acc: 0.4634 - val_loss: 5.6694 - val_acc: 0.2122\n",
      "Epoch 53/100\n",
      "119/119 [==============================] - 48s 405ms/step - loss: 1.3900 - acc: 0.4710 - val_loss: 1.7084 - val_acc: 0.3969\n",
      "Epoch 54/100\n",
      "119/119 [==============================] - 48s 405ms/step - loss: 1.3780 - acc: 0.4895 - val_loss: 1.7052 - val_acc: 0.3870\n",
      "Epoch 55/100\n",
      "119/119 [==============================] - 48s 405ms/step - loss: 1.3765 - acc: 0.4743 - val_loss: 1.7352 - val_acc: 0.3831\n",
      "Epoch 56/100\n",
      "119/119 [==============================] - 48s 405ms/step - loss: 1.3880 - acc: 0.4668 - val_loss: 1.9332 - val_acc: 0.3340\n",
      "Epoch 57/100\n",
      "119/119 [==============================] - 48s 404ms/step - loss: 1.3737 - acc: 0.4920 - val_loss: 3.1614 - val_acc: 0.3084\n",
      "Epoch 58/100\n",
      "119/119 [==============================] - 48s 402ms/step - loss: 1.3623 - acc: 0.4777 - val_loss: 1.9297 - val_acc: 0.3399\n",
      "Epoch 59/100\n",
      "119/119 [==============================] - 48s 402ms/step - loss: 1.3535 - acc: 0.4710 - val_loss: 1.8436 - val_acc: 0.3615\n",
      "Epoch 60/100\n",
      "119/119 [==============================] - 48s 402ms/step - loss: 1.3550 - acc: 0.4903 - val_loss: 1.7759 - val_acc: 0.3674\n"
     ]
    },
    {
     "name": "stdout",
     "output_type": "stream",
     "text": [
      "Epoch 61/100\n",
      "119/119 [==============================] - 48s 402ms/step - loss: 1.3296 - acc: 0.5046 - val_loss: 2.2024 - val_acc: 0.3202\n",
      "Epoch 62/100\n",
      "119/119 [==============================] - 48s 402ms/step - loss: 1.3476 - acc: 0.4996 - val_loss: 2.0299 - val_acc: 0.3222\n",
      "Epoch 63/100\n",
      "119/119 [==============================] - 48s 402ms/step - loss: 1.3460 - acc: 0.4861 - val_loss: 1.7810 - val_acc: 0.3536\n",
      "Epoch 64/100\n",
      "119/119 [==============================] - 48s 403ms/step - loss: 1.3574 - acc: 0.4861 - val_loss: 1.9073 - val_acc: 0.3360\n",
      "Epoch 65/100\n",
      "119/119 [==============================] - 48s 406ms/step - loss: 1.3435 - acc: 0.4861 - val_loss: 1.7428 - val_acc: 0.3969\n",
      "Epoch 66/100\n",
      "119/119 [==============================] - 48s 405ms/step - loss: 1.3253 - acc: 0.4954 - val_loss: 1.7453 - val_acc: 0.3713\n",
      "Epoch 67/100\n",
      "119/119 [==============================] - 48s 405ms/step - loss: 1.3054 - acc: 0.5198 - val_loss: 3.0679 - val_acc: 0.2692\n",
      "Epoch 68/100\n",
      "119/119 [==============================] - 48s 405ms/step - loss: 1.3127 - acc: 0.4962 - val_loss: 1.7155 - val_acc: 0.3654\n",
      "Epoch 69/100\n",
      "119/119 [==============================] - 48s 405ms/step - loss: 1.3023 - acc: 0.5114 - val_loss: 1.7661 - val_acc: 0.3929\n",
      "Epoch 70/100\n",
      "119/119 [==============================] - 48s 405ms/step - loss: 1.3073 - acc: 0.5088 - val_loss: 2.3393 - val_acc: 0.3163\n",
      "Epoch 71/100\n",
      "119/119 [==============================] - 48s 405ms/step - loss: 1.2942 - acc: 0.5013 - val_loss: 2.2214 - val_acc: 0.3026\n",
      "Epoch 72/100\n",
      "119/119 [==============================] - 48s 405ms/step - loss: 1.2922 - acc: 0.5063 - val_loss: 2.1845 - val_acc: 0.3006\n",
      "Epoch 73/100\n",
      "119/119 [==============================] - 48s 405ms/step - loss: 1.2877 - acc: 0.5198 - val_loss: 1.9338 - val_acc: 0.3556\n",
      "Epoch 74/100\n",
      "119/119 [==============================] - 48s 405ms/step - loss: 1.2770 - acc: 0.5147 - val_loss: 1.8089 - val_acc: 0.3635\n",
      "Epoch 75/100\n",
      "119/119 [==============================] - 48s 405ms/step - loss: 1.2616 - acc: 0.5231 - val_loss: 2.5270 - val_acc: 0.3301\n",
      "Epoch 76/100\n",
      "119/119 [==============================] - 48s 405ms/step - loss: 1.2726 - acc: 0.5206 - val_loss: 2.0535 - val_acc: 0.3320\n",
      "Epoch 77/100\n",
      "119/119 [==============================] - 48s 405ms/step - loss: 1.2653 - acc: 0.5299 - val_loss: 1.8378 - val_acc: 0.3910\n",
      "Epoch 78/100\n",
      "119/119 [==============================] - 48s 405ms/step - loss: 1.2386 - acc: 0.5231 - val_loss: 1.7241 - val_acc: 0.4224\n",
      "Epoch 79/100\n",
      "119/119 [==============================] - 48s 405ms/step - loss: 1.2599 - acc: 0.5240 - val_loss: 2.4424 - val_acc: 0.3183\n",
      "Epoch 80/100\n",
      "119/119 [==============================] - 48s 405ms/step - loss: 1.2549 - acc: 0.5172 - val_loss: 1.7845 - val_acc: 0.3674\n",
      "Epoch 81/100\n",
      "119/119 [==============================] - 49s 410ms/step - loss: 1.2429 - acc: 0.5315 - val_loss: 1.9635 - val_acc: 0.3576\n",
      "Epoch 82/100\n",
      "119/119 [==============================] - 48s 406ms/step - loss: 1.2591 - acc: 0.5189 - val_loss: 1.9319 - val_acc: 0.4224\n",
      "Epoch 83/100\n",
      "119/119 [==============================] - 48s 405ms/step - loss: 1.2514 - acc: 0.5341 - val_loss: 2.1762 - val_acc: 0.3694\n",
      "Epoch 84/100\n",
      "119/119 [==============================] - 48s 405ms/step - loss: 1.2336 - acc: 0.5357 - val_loss: 1.8197 - val_acc: 0.3929\n",
      "Epoch 85/100\n",
      "119/119 [==============================] - 48s 405ms/step - loss: 1.2109 - acc: 0.5526 - val_loss: 1.9016 - val_acc: 0.3635\n",
      "Epoch 86/100\n",
      "119/119 [==============================] - 48s 405ms/step - loss: 1.2253 - acc: 0.5374 - val_loss: 1.8959 - val_acc: 0.3713\n",
      "Epoch 87/100\n",
      "119/119 [==============================] - 48s 405ms/step - loss: 1.1947 - acc: 0.5442 - val_loss: 2.2965 - val_acc: 0.3242\n",
      "Epoch 88/100\n",
      "119/119 [==============================] - 48s 405ms/step - loss: 1.2244 - acc: 0.5257 - val_loss: 1.9680 - val_acc: 0.3615\n",
      "Epoch 89/100\n",
      "119/119 [==============================] - 48s 405ms/step - loss: 1.2204 - acc: 0.5425 - val_loss: 1.7497 - val_acc: 0.3831\n",
      "Epoch 90/100\n",
      "119/119 [==============================] - 48s 405ms/step - loss: 1.2092 - acc: 0.5374 - val_loss: 1.8703 - val_acc: 0.4067\n",
      "Epoch 91/100\n",
      "119/119 [==============================] - 48s 405ms/step - loss: 1.2062 - acc: 0.5399 - val_loss: 1.7967 - val_acc: 0.3929\n",
      "Epoch 92/100\n",
      "119/119 [==============================] - 48s 405ms/step - loss: 1.1931 - acc: 0.5442 - val_loss: 1.8349 - val_acc: 0.3713\n",
      "Epoch 93/100\n",
      "119/119 [==============================] - 48s 405ms/step - loss: 1.1632 - acc: 0.5542 - val_loss: 1.7754 - val_acc: 0.3870\n",
      "Epoch 94/100\n",
      "119/119 [==============================] - 48s 405ms/step - loss: 1.2169 - acc: 0.5500 - val_loss: 2.0497 - val_acc: 0.3694\n",
      "Epoch 95/100\n",
      "119/119 [==============================] - 48s 405ms/step - loss: 1.1739 - acc: 0.5551 - val_loss: 1.9742 - val_acc: 0.3576\n",
      "Epoch 96/100\n",
      "119/119 [==============================] - 48s 405ms/step - loss: 1.1751 - acc: 0.5517 - val_loss: 1.8501 - val_acc: 0.3772\n",
      "Epoch 97/100\n",
      "119/119 [==============================] - 48s 405ms/step - loss: 1.1898 - acc: 0.5593 - val_loss: 1.8898 - val_acc: 0.3969\n",
      "Epoch 98/100\n",
      "119/119 [==============================] - 48s 405ms/step - loss: 1.1858 - acc: 0.5442 - val_loss: 1.8395 - val_acc: 0.4028\n",
      "Epoch 99/100\n",
      "119/119 [==============================] - 48s 405ms/step - loss: 1.1872 - acc: 0.5458 - val_loss: 1.7954 - val_acc: 0.4086\n",
      "Epoch 100/100\n",
      "119/119 [==============================] - 48s 405ms/step - loss: 1.1768 - acc: 0.5433 - val_loss: 1.9311 - val_acc: 0.3752\n"
     ]
    }
   ],
   "source": [
    "history = model2.fit(trainset, validation_data=valset, epochs=100, callbacks=es)"
   ]
  },
  {
   "cell_type": "code",
   "execution_count": 55,
   "id": "ef52d06a",
   "metadata": {
    "scrolled": true
   },
   "outputs": [
    {
     "name": "stdout",
     "output_type": "stream",
     "text": [
      "51/51 [==============================] - 3s 57ms/step - loss: 1.9311 - acc: 0.3752\n"
     ]
    },
    {
     "data": {
      "text/plain": [
       "[1.9310688972473145, 0.3752455711364746]"
      ]
     },
     "execution_count": 55,
     "metadata": {},
     "output_type": "execute_result"
    }
   ],
   "source": [
    "model2.evaluate(valset)"
   ]
  },
  {
   "cell_type": "code",
   "execution_count": 56,
   "id": "08b85fcc",
   "metadata": {},
   "outputs": [
    {
     "data": {
      "text/plain": [
       "WindowsPath('art_classification/test/0/0077.jpg')"
      ]
     },
     "execution_count": 56,
     "metadata": {},
     "output_type": "execute_result"
    }
   ],
   "source": [
    "test = pathlib.Path(test)\n",
    "test_im = test / '0077.jpg'\n",
    "test_im"
   ]
  },
  {
   "cell_type": "code",
   "execution_count": 57,
   "id": "0cc2aaa4",
   "metadata": {},
   "outputs": [
    {
     "data": {
      "text/plain": [
       "(<matplotlib.image.AxesImage at 0x1d3b022ba90>, TensorShape([227, 227, 3]))"
      ]
     },
     "execution_count": 57,
     "metadata": {},
     "output_type": "execute_result"
    },
    {
     "data": {
      "image/png": "[encoded data removed]",
      "text/plain": [
       "<Figure size 432x288 with 1 Axes>"
      ]
     },
     "metadata": {
      "needs_background": "light"
     },
     "output_type": "display_data"
    }
   ],
   "source": [
    "sample = tf.io.decode_jpeg(tf.io.read_file(str(test_im)))\n",
    "plt.imshow(sample), sample.shape"
   ]
  },
  {
   "cell_type": "code",
   "execution_count": 58,
   "id": "79b48287",
   "metadata": {
    "scrolled": true
   },
   "outputs": [],
   "source": [
    "sample = tf.keras.preprocessing.image.img_to_array(sample)\n",
    "sample = tf.expand_dims(sample, 0)"
   ]
  },
  {
   "cell_type": "code",
   "execution_count": 59,
   "id": "240d2612",
   "metadata": {},
   "outputs": [],
   "source": [
    "prediction = model2.predict(sample)\n",
    "score = tf.nn.softmax(prediction[0])"
   ]
  },
  {
   "cell_type": "code",
   "execution_count": 60,
   "id": "03caa9f6",
   "metadata": {},
   "outputs": [
    {
     "data": {
      "text/plain": [
       "<tf.Tensor: shape=(7,), dtype=float32, numpy=\n",
       "array([0.26927754, 0.13699006, 0.11902824, 0.11812849, 0.11882287,\n",
       "       0.11835983, 0.119393  ], dtype=float32)>"
      ]
     },
     "execution_count": 60,
     "metadata": {},
     "output_type": "execute_result"
    }
   ],
   "source": [
    "score"
   ]
  },
  {
   "cell_type": "code",
   "execution_count": 61,
   "id": "73729528",
   "metadata": {},
   "outputs": [
    {
     "name": "stdout",
     "output_type": "stream",
     "text": [
      "This image most likely belongs to dog with a 26.93 percent confidence.\n"
     ]
    }
   ],
   "source": [
    "print(\n",
    "    \"This image most likely belongs to {} with a {:.2f} percent confidence.\"\n",
    "    .format(class_name[np.argmax(score)], 100 * np.max(score))\n",
    ")"
   ]
  },
  {
   "cell_type": "code",
   "execution_count": 62,
   "id": "ae54592d",
   "metadata": {},
   "outputs": [
    {
     "data": {
      "text/plain": [
       "['dog', 'elephant', 'giraffe', 'guitar', 'horse', 'house', 'person']"
      ]
     },
     "execution_count": 62,
     "metadata": {},
     "output_type": "execute_result"
    }
   ],
   "source": [
    "class_name"
   ]
  },
  {
   "cell_type": "code",
   "execution_count": null,
   "id": "53415d46",
   "metadata": {},
   "outputs": [],
   "source": []
  }
 ],
 "metadata": {
  "kernelspec": {
   "display_name": "Python 3 (ipykernel)",
   "language": "python",
   "name": "python3"
  },
  "language_info": {
   "codemirror_mode": {
    "name": "ipython",
    "version": 3
   },
   "file_extension": ".py",
   "mimetype": "text/x-python",
   "name": "python",
   "nbconvert_exporter": "python",
   "pygments_lexer": "ipython3",
   "version": "3.9.7"
  }
 },
 "nbformat": 4,
 "nbformat_minor": 5
}
